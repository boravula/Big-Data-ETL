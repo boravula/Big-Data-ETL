{
  "cells": [
    {
      "cell_type": "code",
      "execution_count": null,
      "metadata": {
        "colab": {
          "base_uri": "https://localhost:8080/"
        },
        "id": "-8eFW_wl1n39",
        "outputId": "2a082599-ee01-45c1-bcc3-34fc3fc57111"
      },
      "outputs": [
        {
          "output_type": "stream",
          "name": "stdout",
          "text": [
            "Hit:1 https://cloud.r-project.org/bin/linux/ubuntu focal-cran40/ InRelease\n",
            "Ign:2 https://developer.download.nvidia.com/compute/machine-learning/repos/ubuntu2004/x86_64  InRelease\n",
            "Hit:3 https://developer.download.nvidia.com/compute/cuda/repos/ubuntu2004/x86_64  InRelease\n",
            "Hit:4 https://developer.download.nvidia.com/compute/machine-learning/repos/ubuntu2004/x86_64  Release\n",
            "Hit:5 http://security.ubuntu.com/ubuntu focal-security InRelease\n",
            "Hit:6 http://archive.ubuntu.com/ubuntu focal InRelease\n",
            "Hit:8 http://ppa.launchpad.net/c2d4u.team/c2d4u4.0+/ubuntu focal InRelease\n",
            "Hit:9 http://archive.ubuntu.com/ubuntu focal-updates InRelease\n",
            "Hit:10 http://archive.ubuntu.com/ubuntu focal-backports InRelease\n",
            "Hit:11 http://ppa.launchpad.net/cran/libgit2/ubuntu focal InRelease\n",
            "Hit:12 http://ppa.launchpad.net/deadsnakes/ppa/ubuntu focal InRelease\n",
            "Hit:13 http://ppa.launchpad.net/graphics-drivers/ppa/ubuntu focal InRelease\n",
            "Hit:14 http://ppa.launchpad.net/ubuntugis/ppa/ubuntu focal InRelease\n",
            "Reading package lists... Done\n"
          ]
        }
      ],
      "source": [
        "# Activate Spark in our Colab notebook.\n",
        "import os\n",
        "# Find the latest version of spark 3.2  from http://www.apache.org/dist/spark/ and enter as the spark version\n",
        "# For example:\n",
        "# spark_version = 'spark-3.2.2'\n",
        "spark_version = 'spark-3.2.3'\n",
        "os.environ['SPARK_VERSION']=spark_version\n",
        "\n",
        "# Install Spark and Java\n",
        "!apt-get update\n",
        "!apt-get install openjdk-11-jdk-headless -qq > /dev/null\n",
        "!wget -q http://www.apache.org/dist/spark/$SPARK_VERSION/$SPARK_VERSION-bin-hadoop2.7.tgz\n",
        "!tar xf $SPARK_VERSION-bin-hadoop2.7.tgz\n",
        "!pip install -q findspark\n",
        "\n",
        "# Set Environment Variables\n",
        "import os\n",
        "os.environ[\"JAVA_HOME\"] = \"/usr/lib/jvm/java-11-openjdk-amd64\"\n",
        "os.environ[\"SPARK_HOME\"] = f\"/content/{spark_version}-bin-hadoop2.7\"\n",
        "\n",
        "# Start a SparkSession\n",
        "import findspark\n",
        "findspark.init()\n",
        "\n"
      ]
    },
    {
      "cell_type": "code",
      "execution_count": null,
      "metadata": {
        "colab": {
          "base_uri": "https://localhost:8080/"
        },
        "id": "BzCrgs0Z1rnw",
        "outputId": "42691cfe-a3a3-41cc-a5eb-8639e864adec"
      },
      "outputs": [
        {
          "output_type": "stream",
          "name": "stdout",
          "text": [
            "--2023-03-02 01:23:18--  https://jdbc.postgresql.org/download/postgresql-42.2.9.jar\n",
            "Resolving jdbc.postgresql.org (jdbc.postgresql.org)... 72.32.157.228, 2001:4800:3e1:1::228\n",
            "Connecting to jdbc.postgresql.org (jdbc.postgresql.org)|72.32.157.228|:443... connected.\n",
            "HTTP request sent, awaiting response... 200 OK\n",
            "Length: 914037 (893K) [application/java-archive]\n",
            "Saving to: ‘postgresql-42.2.9.jar’\n",
            "\n",
            "postgresql-42.2.9.j 100%[===================>] 892.61K  1.22MB/s    in 0.7s    \n",
            "\n",
            "2023-03-02 01:23:20 (1.22 MB/s) - ‘postgresql-42.2.9.jar’ saved [914037/914037]\n",
            "\n"
          ]
        }
      ],
      "source": [
        "# Get postgresql package\n",
        "!wget https://jdbc.postgresql.org/download/postgresql-42.2.9.jar"
      ]
    },
    {
      "cell_type": "code",
      "execution_count": null,
      "metadata": {
        "id": "0DuBth0V2PR8"
      },
      "outputs": [],
      "source": [
        "# Import Spark and create a SparkSession\n",
        "from pyspark.sql import SparkSession\n",
        "spark = SparkSession.builder.appName(\"BigData-Part2\").config(\"spark.driver.extraClassPath\",\"/content/postgresql-42.2.9.jar\").getOrCreate()"
      ]
    },
    {
      "cell_type": "markdown",
      "metadata": {
        "id": "D3W2XJVi2CU-"
      },
      "source": [
        "# Extract the Amazon Data into Spark DataFrame"
      ]
    },
    {
      "cell_type": "code",
      "execution_count": null,
      "metadata": {
        "colab": {
          "base_uri": "https://localhost:8080/"
        },
        "id": "Na_stw7b1wfU",
        "outputId": "0800088a-a105-4c8a-d3e1-77d6e247ea18"
      },
      "outputs": [
        {
          "output_type": "stream",
          "name": "stdout",
          "text": [
            "+-----------+-----------+--------------+----------+--------------+--------------------+----------------+-----------+-------------+-----------+----+-----------------+--------------------+--------------------+-------------------+\n",
            "|marketplace|customer_id|     review_id|product_id|product_parent|       product_title|product_category|star_rating|helpful_votes|total_votes|vine|verified_purchase|     review_headline|         review_body|        review_date|\n",
            "+-----------+-----------+--------------+----------+--------------+--------------------+----------------+-----------+-------------+-----------+----+-----------------+--------------------+--------------------+-------------------+\n",
            "|         US|   18446823|R35T75OLUGHL5C|B000NV6H94|     110804376|Stearns Youth Boa...|        Outdoors|          4|            0|          0|   N|                Y|          Four Stars|          GOOD VALUE|2015-01-31 00:08:00|\n",
            "|         US|   13724367|R2BV735O46BN33|B000IN0W3Y|     624096774|Primal Wear Men's...|        Outdoors|          5|            0|          0|   N|                Y|          Five Stars|  Excellent quality.|2015-01-31 00:08:00|\n",
            "|         US|   51001958|R2NBEUGPQQGXP1|B008RBJXFM|     278970944|Osprey Hydraulics...|        Outdoors|          4|            0|          0|   N|                Y|Only Flaw Is The Cap|3rd season using ...|2015-01-31 00:08:00|\n",
            "|         US|   32866903|R17LLAOJ8ITK0S|B00FK8WUQY|     312877650|CamelBak eddy .75...|        Outdoors|          3|            1|          1|   N|                Y|Poor design leads...|poor construction...|2015-01-31 00:08:00|\n",
            "|         US|   30907790|R39PEQBT5ISEF4|B00EZA3VW0|     305567912|Children Black Re...|        Outdoors|          1|            0|          0|   N|                Y|Very bad quality,...|Very bad quality,...|2015-01-31 00:08:00|\n",
            "|         US|   20232229|R3GNM3SU9VHJFT|B006JA8WEG|     842306035|Ibera Bicycle Tri...|        Outdoors|          4|            1|          1|   N|                Y|Nice bag. Should ...|Nice bag. Should ...|2015-01-31 00:08:00|\n",
            "|         US|   17698862| R2Y81OP0EK467|B002PWFSEO|     451480122|Therm-a-Rest Comp...|        Outdoors|          5|            0|          0|   N|                Y|Very comfortable ...|Gave this to my s...|2015-01-31 00:08:00|\n",
            "|         US|   38486114|R2LFGSI6HAYH5F|B002DZGKHW|     124386306|Sawyer Products P...|        Outdoors|          5|            1|          1|   N|                Y| Worked like a charm|Went on vacation ...|2015-01-31 00:08:00|\n",
            "|         US|   26319572|R297G6ED1IQO7W|B00ABA08F6|     991442421|Zippo Hand Warmer...|        Outdoors|          5|            1|          1|   N|                Y|Great item. Gets ...|Great item. Gets ...|2015-01-31 00:08:00|\n",
            "|         US|   27152337| RE27RFC6101N6|B003Z8WIHC|     886483892|Camp Chef Dutch O...|        Outdoors|          5|            0|          0|   N|                Y|Great value for t...|I am so glad I bo...|2015-01-31 00:08:00|\n",
            "|         US|   12516845|R3BPDME6E94W8Z|B007CP6UK0|     150224054|3CERA Portable Wi...|        Outdoors|          5|            0|          0|   N|                Y|          Five Stars|        good to have|2015-01-31 00:08:00|\n",
            "|         US|    3225242|R2P08O1RILUOX3|B003V3U9JK|     343847969|Texsport King Kot...|        Outdoors|          3|            0|          0|   N|                Y|Cot set up inconv...|VERY difficult to...|2015-01-31 00:08:00|\n",
            "|         US|     961839|R37CVAB03PTDVI|B00Y846HN8|     858088629|Wallygadgets 2 Wh...|        Outdoors|          5|            0|          1|   N|                Y|          Five Stars|Thanks excellent ...|2015-01-31 00:08:00|\n",
            "|         US|   47796452| RAWNWOGXPCPMD|B00IYQ84VY|     474493517|RainStoppers 34-I...|        Outdoors|          5|            0|          0|   N|                Y|          Five Stars|This umbrella is ...|2015-01-31 00:08:00|\n",
            "|         US|   32004835| R5DYGP6ASX77M|B002MYCKLY|     920014456|Alpha Deluxe Port...|        Outdoors|          5|            0|          0|   N|                Y|          Five Stars|Love it !! I even...|2015-01-31 00:08:00|\n",
            "|         US|   23972939|R1O0SAOOGF2KG7|B00EZV69JG|     128489321|Speedfil Z4 BTA B...|        Outdoors|          4|            0|          0|   N|                Y|        Good enough.|This is a fine mo...|2015-01-31 00:08:00|\n",
            "|         US|   40889047|R35NJUT0U3MU3V|B00AWOT3T8|     571303876|O'Brien Kids Plat...|        Outdoors|          5|            0|          0|   N|                Y| Got Up on First Try|We just bought th...|2015-01-31 00:08:00|\n",
            "|         US|   11244387|R242C08MF9D1AH|B0000AXTID|     739769424|Kwik-Tek F-5R Pla...|        Outdoors|          5|            0|          0|   N|                Y|They go over an a...|I have these on m...|2015-01-31 00:08:00|\n",
            "|         US|   20121211| R3RYG8TJTO4E2|B00IFHFJXI|     984009972|Ivation Portable ...|        Outdoors|          5|            0|          0|   N|                Y|Greatest Item I b...|This is the best ...|2015-01-31 00:08:00|\n",
            "|         US|   25657249|R3IKH1DNY0CP9F|B00KFILTWU|     405521681|GreenInsync Repla...|        Outdoors|          2|            0|          0|   N|                Y|I received this p...|I received this p...|2015-01-31 00:08:00|\n",
            "+-----------+-----------+--------------+----------+--------------+--------------------+----------------+-----------+-------------+-----------+----+-----------------+--------------------+--------------------+-------------------+\n",
            "only showing top 20 rows\n",
            "\n"
          ]
        }
      ],
      "source": [
        "# Read in the data from an S3 Bucket\n",
        "from pyspark import SparkFiles\n",
        "url = \"https://s3.amazonaws.com/amazon-reviews-pds/tsv/amazon_reviews_us_Outdoors_v1_00.tsv.gz\"\n",
        "spark.sparkContext.addFile(url)\n",
        "\n",
        "df = spark.read.option('header', 'true').csv(SparkFiles.get(\"amazon_reviews_us_Outdoors_v1_00.tsv.gz\"), inferSchema=True, sep='\\t', timestampFormat=\"yyyy-mm-dd\")\n",
        "df.show()"
      ]
    },
    {
      "cell_type": "code",
      "execution_count": null,
      "metadata": {
        "colab": {
          "base_uri": "https://localhost:8080/"
        },
        "id": "Cayz-3Q52IM3",
        "outputId": "4c08ef10-0654-4f83-a7a5-31ed4a7b91e8"
      },
      "outputs": [
        {
          "output_type": "execute_result",
          "data": {
            "text/plain": [
              "2302401"
            ]
          },
          "metadata": {},
          "execution_count": 10
        }
      ],
      "source": [
        "# Get the number of rows in the DataFrame.\n",
        "df.count()"
      ]
    },
    {
      "cell_type": "code",
      "source": [
        "#Drop null values if any\n",
        "df = df.dropna()\n",
        "df.count()"
      ],
      "metadata": {
        "colab": {
          "base_uri": "https://localhost:8080/"
        },
        "id": "cBtrt-r_aM1H",
        "outputId": "d8d16c40-f405-4090-fff2-02d0e0866475"
      },
      "execution_count": null,
      "outputs": [
        {
          "output_type": "execute_result",
          "data": {
            "text/plain": [
              "2302174"
            ]
          },
          "metadata": {},
          "execution_count": 11
        }
      ]
    },
    {
      "cell_type": "markdown",
      "metadata": {
        "id": "C9U0rkGZ2eu7"
      },
      "source": [
        "# Transform the Data"
      ]
    },
    {
      "cell_type": "code",
      "source": [
        "df.printSchema()"
      ],
      "metadata": {
        "colab": {
          "base_uri": "https://localhost:8080/"
        },
        "id": "naNWzeQAa2_e",
        "outputId": "c60e1bad-9c9c-432d-b6c9-d82b784afd63"
      },
      "execution_count": null,
      "outputs": [
        {
          "output_type": "stream",
          "name": "stdout",
          "text": [
            "root\n",
            " |-- marketplace: string (nullable = true)\n",
            " |-- customer_id: integer (nullable = true)\n",
            " |-- review_id: string (nullable = true)\n",
            " |-- product_id: string (nullable = true)\n",
            " |-- product_parent: integer (nullable = true)\n",
            " |-- product_title: string (nullable = true)\n",
            " |-- product_category: string (nullable = true)\n",
            " |-- star_rating: integer (nullable = true)\n",
            " |-- helpful_votes: integer (nullable = true)\n",
            " |-- total_votes: integer (nullable = true)\n",
            " |-- vine: string (nullable = true)\n",
            " |-- verified_purchase: string (nullable = true)\n",
            " |-- review_headline: string (nullable = true)\n",
            " |-- review_body: string (nullable = true)\n",
            " |-- review_date: timestamp (nullable = true)\n",
            "\n"
          ]
        }
      ]
    },
    {
      "cell_type": "code",
      "source": [
        "# Change datatypes\n",
        "# Source Link: https://stackoverflow.com/questions/32284620/how-to-change-a-dataframe-column-from-string-type-to-double-type-in-pyspark\n",
        "\n",
        "from pyspark.sql.types import TimestampType, IntegerType\n",
        "\n",
        "df = df.withColumn(\"customer_id\", df[\"customer_id\"].cast(IntegerType()))\\\n",
        "       .withColumn(\"product_parent\", df[\"product_parent\"].cast(IntegerType()))\\\n",
        "       .withColumn(\"review_date\", df[\"review_date\"].cast(TimestampType()))\\\n",
        "       .withColumn(\"star_rating\", df[\"star_rating\"].cast(IntegerType()))\\\n",
        "       .withColumn(\"helpful_votes\", df[\"helpful_votes\"].cast(IntegerType()))\\\n",
        "      .withColumn(\"total_votes\", df[\"total_votes\"].cast(IntegerType()))\\\n",
        "\n",
        "# Print schema\n",
        "df.printSchema()"
      ],
      "metadata": {
        "colab": {
          "base_uri": "https://localhost:8080/"
        },
        "id": "pVYJge8ua_AM",
        "outputId": "18a1bb36-bd69-4de2-b8b6-a4f547a0c2d7"
      },
      "execution_count": null,
      "outputs": [
        {
          "output_type": "stream",
          "name": "stdout",
          "text": [
            "root\n",
            " |-- marketplace: string (nullable = true)\n",
            " |-- customer_id: integer (nullable = true)\n",
            " |-- review_id: string (nullable = true)\n",
            " |-- product_id: string (nullable = true)\n",
            " |-- product_parent: integer (nullable = true)\n",
            " |-- product_title: string (nullable = true)\n",
            " |-- product_category: string (nullable = true)\n",
            " |-- star_rating: integer (nullable = true)\n",
            " |-- helpful_votes: integer (nullable = true)\n",
            " |-- total_votes: integer (nullable = true)\n",
            " |-- vine: string (nullable = true)\n",
            " |-- verified_purchase: string (nullable = true)\n",
            " |-- review_headline: string (nullable = true)\n",
            " |-- review_body: string (nullable = true)\n",
            " |-- review_date: timestamp (nullable = true)\n",
            "\n"
          ]
        }
      ]
    },
    {
      "cell_type": "markdown",
      "metadata": {
        "id": "dUoftWoKtM_c"
      },
      "source": [
        "### Level 2\n",
        "## All customer reviews."
      ]
    },
    {
      "cell_type": "code",
      "execution_count": null,
      "metadata": {
        "colab": {
          "base_uri": "https://localhost:8080/"
        },
        "id": "2tMYkSIk2d-m",
        "outputId": "ae9c94ee-c718-4a5a-cae1-f658898b436a"
      },
      "outputs": [
        {
          "output_type": "stream",
          "name": "stdout",
          "text": [
            "+-------------------+-----------+-----------------+--------------------+-----------+-------------+-----------+----+\n",
            "|        review_date|customer_id|verified_purchase|       product_title|star_rating|helpful_votes|total_votes|vine|\n",
            "+-------------------+-----------+-----------------+--------------------+-----------+-------------+-----------+----+\n",
            "|2015-01-31 00:08:00|   18446823|                Y|Stearns Youth Boa...|          4|            0|          0|   N|\n",
            "|2015-01-31 00:08:00|   13724367|                Y|Primal Wear Men's...|          5|            0|          0|   N|\n",
            "|2015-01-31 00:08:00|   51001958|                Y|Osprey Hydraulics...|          4|            0|          0|   N|\n",
            "|2015-01-31 00:08:00|   32866903|                Y|CamelBak eddy .75...|          3|            1|          1|   N|\n",
            "|2015-01-31 00:08:00|   30907790|                Y|Children Black Re...|          1|            0|          0|   N|\n",
            "|2015-01-31 00:08:00|   20232229|                Y|Ibera Bicycle Tri...|          4|            1|          1|   N|\n",
            "|2015-01-31 00:08:00|   17698862|                Y|Therm-a-Rest Comp...|          5|            0|          0|   N|\n",
            "|2015-01-31 00:08:00|   38486114|                Y|Sawyer Products P...|          5|            1|          1|   N|\n",
            "|2015-01-31 00:08:00|   26319572|                Y|Zippo Hand Warmer...|          5|            1|          1|   N|\n",
            "|2015-01-31 00:08:00|   27152337|                Y|Camp Chef Dutch O...|          5|            0|          0|   N|\n",
            "|2015-01-31 00:08:00|   12516845|                Y|3CERA Portable Wi...|          5|            0|          0|   N|\n",
            "|2015-01-31 00:08:00|    3225242|                Y|Texsport King Kot...|          3|            0|          0|   N|\n",
            "|2015-01-31 00:08:00|     961839|                Y|Wallygadgets 2 Wh...|          5|            0|          1|   N|\n",
            "|2015-01-31 00:08:00|   47796452|                Y|RainStoppers 34-I...|          5|            0|          0|   N|\n",
            "|2015-01-31 00:08:00|   32004835|                Y|Alpha Deluxe Port...|          5|            0|          0|   N|\n",
            "|2015-01-31 00:08:00|   23972939|                Y|Speedfil Z4 BTA B...|          4|            0|          0|   N|\n",
            "|2015-01-31 00:08:00|   40889047|                Y|O'Brien Kids Plat...|          5|            0|          0|   N|\n",
            "|2015-01-31 00:08:00|   11244387|                Y|Kwik-Tek F-5R Pla...|          5|            0|          0|   N|\n",
            "|2015-01-31 00:08:00|   20121211|                Y|Ivation Portable ...|          5|            0|          0|   N|\n",
            "|2015-01-31 00:08:00|   25657249|                Y|GreenInsync Repla...|          2|            0|          0|   N|\n",
            "+-------------------+-----------+-----------------+--------------------+-----------+-------------+-----------+----+\n",
            "only showing top 20 rows\n",
            "\n"
          ]
        }
      ],
      "source": [
        "#  View all customers on review date, customer, id, verified purchase, product title, star rating, helpful rating, total votes, and in vine program\n",
        "\n",
        "analysis_df = df.select([\"review_date\",\"customer_id\", \"verified_purchase\", \"product_title\",\"star_rating\",\"helpful_votes\",\"total_votes\", \"vine\"])\n",
        "analysis_df.show()"
      ]
    },
    {
      "cell_type": "code",
      "source": [
        "# Statistics for ALL CUSTOMERS for star_rating, helpful votes, total votes\n",
        "summary_analysis_df = analysis_df.select([\"star_rating\",\"helpful_votes\",\"total_votes\"]).describe()\n",
        "\n",
        "print(\"Summary statistics for All Customers\")\n",
        "summary_analysis_df.show()"
      ],
      "metadata": {
        "colab": {
          "base_uri": "https://localhost:8080/"
        },
        "id": "bcG2GilIbX19",
        "outputId": "db5889f1-5224-4d9a-d112-4b148e103675"
      },
      "execution_count": null,
      "outputs": [
        {
          "output_type": "stream",
          "name": "stdout",
          "text": [
            "Summary statistics for All Customers\n",
            "+-------+------------------+------------------+------------------+\n",
            "|summary|       star_rating|     helpful_votes|       total_votes|\n",
            "+-------+------------------+------------------+------------------+\n",
            "|  count|           2302174|           2302174|           2302174|\n",
            "|   mean| 4.240025732199217|1.8469689953930502|2.2948195922636603|\n",
            "| stddev|1.2101686846950972|12.770681186888938|13.628677045693843|\n",
            "|    min|                 1|                 0|                 0|\n",
            "|    max|                 5|              2703|              2751|\n",
            "+-------+------------------+------------------+------------------+\n",
            "\n"
          ]
        }
      ]
    },
    {
      "cell_type": "code",
      "source": [
        "# Sorting all customers with 5 being the highest rating\n",
        "\n",
        "from pyspark.sql.functions import desc\n",
        "\n",
        "star_rating_df = analysis_df.orderBy(analysis_df.star_rating.desc())\n",
        "star_rating_df.show()"
      ],
      "metadata": {
        "colab": {
          "base_uri": "https://localhost:8080/"
        },
        "id": "pWotgbNoHFq9",
        "outputId": "fe3cbd73-4cd6-41aa-fa22-eed8c036b291"
      },
      "execution_count": null,
      "outputs": [
        {
          "output_type": "stream",
          "name": "stdout",
          "text": [
            "+-------------------+-----------+-----------------+--------------------+-----------+-------------+-----------+----+\n",
            "|        review_date|customer_id|verified_purchase|       product_title|star_rating|helpful_votes|total_votes|vine|\n",
            "+-------------------+-----------+-----------------+--------------------+-----------+-------------+-----------+----+\n",
            "|2015-01-31 00:08:00|   36542249|                Y|RAD Cycle Product...|          5|            1|          1|   N|\n",
            "|2015-01-31 00:08:00|   33495535|                Y|20L/33L- Most Dur...|          5|            0|          0|   N|\n",
            "|2015-01-31 00:08:00|   16687947|                Y|XLC Quick Release...|          5|            0|          0|   N|\n",
            "|2015-01-31 00:08:00|   13724367|                Y|Primal Wear Men's...|          5|            0|          0|   N|\n",
            "|2015-01-31 00:08:00|   11373767|                Y|Timbuk2 Aviator T...|          5|            0|          1|   N|\n",
            "|2015-01-31 00:08:00|   32421041|                Y|K2 Skate Men's F....|          5|            5|          5|   N|\n",
            "|2015-01-31 00:08:00|   17698862|                Y|Therm-a-Rest Comp...|          5|            0|          0|   N|\n",
            "|2015-01-31 00:08:00|   15957693|                Y|KMC X8.99 Bicycle...|          5|            0|          0|   N|\n",
            "|2015-01-31 00:08:00|   26319572|                Y|Zippo Hand Warmer...|          5|            1|          1|   N|\n",
            "|2015-01-31 00:08:00|   11745832|                Y|Vktech Road Bike ...|          5|            0|          0|   N|\n",
            "|2015-01-31 00:08:00|   12516845|                Y|3CERA Portable Wi...|          5|            0|          0|   N|\n",
            "|2015-01-31 00:08:00|   51324199|                Y|SoundAsleep Dream...|          5|            0|          0|   N|\n",
            "|2015-01-31 00:08:00|   47796452|                Y|RainStoppers 34-I...|          5|            0|          0|   N|\n",
            "|2015-01-31 00:08:00|   36000447|                Y|Scorpio Premium 5...|          5|            0|          0|   N|\n",
            "|2015-01-31 00:08:00|   40889047|                Y|O'Brien Kids Plat...|          5|            0|          0|   N|\n",
            "|2015-01-31 00:08:00|   40265615|                Y|Body Glove Kid's ...|          5|            0|          0|   N|\n",
            "|2015-01-31 00:08:00|   20121211|                Y|Ivation Portable ...|          5|            0|          0|   N|\n",
            "|2015-01-31 00:08:00|    3512488|                Y|Solstice by Swiml...|          5|            0|          0|   N|\n",
            "|2015-01-31 00:08:00|   16345848|                Y|Schwinn Thrasher ...|          5|            0|          0|   N|\n",
            "|2015-01-31 00:08:00|   21348344|                Y|Shimano UN55 BB S...|          5|            0|          0|   N|\n",
            "+-------------------+-----------+-----------------+--------------------+-----------+-------------+-----------+----+\n",
            "only showing top 20 rows\n",
            "\n"
          ]
        }
      ]
    },
    {
      "cell_type": "markdown",
      "metadata": {
        "id": "aAVCFjXhtXO8"
      },
      "source": [
        "## Viewing Vine Customers"
      ]
    },
    {
      "cell_type": "code",
      "source": [
        "# Load in a sql function to use columns\n",
        "from pyspark.sql.functions import col\n",
        "\n",
        "vine_analysis_df = analysis_df.filter(col(\"vine\")  == \"Y\")\n",
        "vine_analysis_df.show()"
      ],
      "metadata": {
        "colab": {
          "base_uri": "https://localhost:8080/"
        },
        "id": "HUDLtQnYJp9f",
        "outputId": "c6badfcb-ffb6-41ab-93bb-809dab812804"
      },
      "execution_count": null,
      "outputs": [
        {
          "output_type": "stream",
          "name": "stdout",
          "text": [
            "+-------------------+-----------+-----------------+--------------------+-----------+-------------+-----------+----+\n",
            "|        review_date|customer_id|verified_purchase|       product_title|star_rating|helpful_votes|total_votes|vine|\n",
            "+-------------------+-----------+-----------------+--------------------+-----------+-------------+-----------+----+\n",
            "|2015-01-31 00:08:00|   37388532|                N|The Alter Ego Per...|          5|            2|          5|   Y|\n",
            "|2015-01-31 00:08:00|   44451381|                N|Slumberjack Bound...|          5|            0|          0|   Y|\n",
            "|2015-01-31 00:08:00|   17304105|                N|Thule EnRoute Blu...|          5|            3|          4|   Y|\n",
            "|2015-01-31 00:08:00|   51016139|                N|Slumberjack Bound...|          4|            0|          0|   Y|\n",
            "|2015-01-31 00:08:00|   31691563|                N|Timberjill 20 Deg...|          5|            0|          0|   Y|\n",
            "|2015-01-31 00:08:00|   50046574|                N|The Alter Ego Per...|          3|            3|          7|   Y|\n",
            "|2015-01-31 00:08:00|   12254308|                N|Slumberjack Bound...|          5|            0|          0|   Y|\n",
            "|2015-01-31 00:08:00|   39749647|                N|Thule EnRoute Blu...|          3|            4|          6|   Y|\n",
            "|2015-01-31 00:08:00|   52998581|                N|Timberjill 20 Deg...|          4|            1|          1|   Y|\n",
            "|2015-01-30 00:08:00|   36241300|                N|Slumberjack Timbe...|          4|            0|          1|   Y|\n",
            "|2015-01-30 00:08:00|   53057093|                N|Peg Perego 10+ Re...|          4|            0|          0|   Y|\n",
            "|2015-01-30 00:08:00|   52759542|                N|AVEX, Brew Pint G...|          3|            1|          2|   Y|\n",
            "|2015-01-30 00:08:00|   50329223|                N|Slumberjack Bound...|          4|            2|          3|   Y|\n",
            "|2015-01-30 00:08:00|   45716675|                N|Streamlight 22600...|          4|            0|          1|   Y|\n",
            "|2015-01-30 00:08:00|   50389852|                N|Thule EnRoute Esc...|          5|            0|          0|   Y|\n",
            "|2015-01-30 00:08:00|   52667314|                N|AVEX, Brew Pint G...|          4|            0|          1|   Y|\n",
            "|2015-01-30 00:08:00|   53087372|                N|Slumberjack Bound...|          3|            0|          0|   Y|\n",
            "|2015-01-30 00:08:00|   38967059|                N|Kelty Women's Cat...|          5|            0|          0|   Y|\n",
            "|2015-01-30 00:08:00|   20047667|                N|Thule Departer Da...|          5|            0|          0|   Y|\n",
            "|2015-01-30 00:08:00|   15225359|                N|Slumberjack Bound...|          4|            0|          0|   Y|\n",
            "+-------------------+-----------+-----------------+--------------------+-----------+-------------+-----------+----+\n",
            "only showing top 20 rows\n",
            "\n"
          ]
        }
      ]
    },
    {
      "cell_type": "code",
      "source": [
        "# Summary statistics for VINE CUSTOMERS for star_rating, helpful votes, total votes\n",
        "\n",
        "vine_summary_analysis_df = vine_analysis_df.select([\"star_rating\",\"helpful_votes\",\"total_votes\"]).describe()\n",
        "\n",
        "print(\"Summary statistics for VINE CUSTOMERS\")\n",
        "vine_summary_analysis_df.show()"
      ],
      "metadata": {
        "colab": {
          "base_uri": "https://localhost:8080/"
        },
        "id": "MChq1KtNJvrj",
        "outputId": "bc166c02-941b-4efb-94e9-318e37de4bae"
      },
      "execution_count": null,
      "outputs": [
        {
          "output_type": "stream",
          "name": "stdout",
          "text": [
            "Summary statistics for VINE CUSTOMERS\n",
            "+-------+------------------+------------------+------------------+\n",
            "|summary|       star_rating|     helpful_votes|       total_votes|\n",
            "+-------+------------------+------------------+------------------+\n",
            "|  count|              3137|              3137|              3137|\n",
            "|   mean| 4.372967803634046| 3.058335989799171|3.9190309212623524|\n",
            "| stddev|0.8186341579032859|12.566739239470186|13.562137725035525|\n",
            "|    min|                 1|                 0|                 0|\n",
            "|    max|                 5|               326|               340|\n",
            "+-------+------------------+------------------+------------------+\n",
            "\n"
          ]
        }
      ]
    },
    {
      "cell_type": "code",
      "source": [
        "# Top rated products with the Top helpful votes \n",
        "\n",
        "from pyspark.sql.functions import desc\n",
        "\n",
        "vine_helpful_votes_df = vine_analysis_df.orderBy(vine_analysis_df.helpful_votes.desc())\n",
        "vine_helpful_votes_df = vine_helpful_votes_df.filter('star_rating = 5')\n",
        "\n",
        "print(\"Top 20 rated products with the Top helpful votes for VINE CUSTOMERS\")\n",
        "vine_helpful_votes_df.show()"
      ],
      "metadata": {
        "colab": {
          "base_uri": "https://localhost:8080/"
        },
        "id": "0zCZZfKYJ7o7",
        "outputId": "6fbe4fd4-519d-4070-b733-a324fd04b342"
      },
      "execution_count": null,
      "outputs": [
        {
          "output_type": "stream",
          "name": "stdout",
          "text": [
            "Top 20 rated products with the Top helpful votes for VINE CUSTOMERS\n",
            "+-------------------+-----------+-----------------+--------------------+-----------+-------------+-----------+----+\n",
            "|        review_date|customer_id|verified_purchase|       product_title|star_rating|helpful_votes|total_votes|vine|\n",
            "+-------------------+-----------+-----------------+--------------------+-----------+-------------+-----------+----+\n",
            "|2014-01-08 00:08:00|   51999404|                N|Thule Urban Glide...|          5|          326|        340|   Y|\n",
            "|2012-01-01 00:08:00|   49805190|                N|Zippo Flex Neck U...|          5|          170|        181|   Y|\n",
            "|2010-01-19 00:09:00|   51859664|                N|  YBIKE Balance Bike|          5|          140|        153|   Y|\n",
            "|2015-01-08 00:05:00|   13722260|                N|Thule Vertex XT H...|          5|          123|        128|   Y|\n",
            "|2014-01-21 00:06:00|   51037469|                N|Mountain House Ju...|          5|          118|        126|   Y|\n",
            "|2012-01-02 00:04:00|   43791073|                N|Timbuk2 Command -...|          5|          114|        121|   Y|\n",
            "|2012-01-28 00:06:00|   50374082|                N|Timbuk2 Commute T...|          5|           85|         89|   Y|\n",
            "|2015-01-04 00:07:00|   50794278|                N|Klymit Inertia O ...|          5|           79|         82|   Y|\n",
            "|2014-01-29 00:06:00|   45351550|                N|Basecamp Double B...|          5|           76|         78|   Y|\n",
            "|2010-01-30 00:06:00|   51390754|                N|Burley Travoy Bik...|          5|           68|         69|   Y|\n",
            "|2014-01-07 00:08:00|   45351550|                N|Thule Urban Glide...|          5|           67|         74|   Y|\n",
            "|2013-01-27 00:06:00|   51014481|                N|Jetson Electric B...|          5|           65|         89|   Y|\n",
            "|2012-01-27 00:06:00|   51865210|                N|Timbuk2 Commute T...|          5|           60|         62|   Y|\n",
            "|2010-01-23 00:06:00|   47770260|                N|Burley Travoy Bik...|          5|           55|         57|   Y|\n",
            "|2013-01-10 00:08:00|   50699505|                N|Prorack 4-Bike Hi...|          5|           53|         54|   Y|\n",
            "|2012-01-24 00:10:00|   52675098|                Y|Wahoo Blue SC Spe...|          5|           53|         56|   Y|\n",
            "|2013-01-18 00:12:00|   51624877|                N|U.S. Divers Lux P...|          5|           53|         56|   Y|\n",
            "|2012-01-21 00:03:00|   53038997|                N|Timbuk2 D-Lux Lap...|          5|           53|         54|   Y|\n",
            "|2013-01-12 00:11:00|   50699505|                N|Allen Sports Prem...|          5|           52|         54|   Y|\n",
            "|2014-01-01 00:11:00|   50768776|                N|CamelBak Forge 16...|          5|           50|         54|   Y|\n",
            "+-------------------+-----------+-----------------+--------------------+-----------+-------------+-----------+----+\n",
            "only showing top 20 rows\n",
            "\n"
          ]
        }
      ]
    },
    {
      "cell_type": "code",
      "source": [
        "#  Converting into Pandas DataFrame to get the complete product title name \n",
        "vine_helpful_votes_df.select(\"product_title\").toPandas().head(3)"
      ],
      "metadata": {
        "colab": {
          "base_uri": "https://localhost:8080/",
          "height": 143
        },
        "id": "tSRJcyhaKHF-",
        "outputId": "4cb1883a-5af0-4b4f-ea14-67dd90b893e2"
      },
      "execution_count": null,
      "outputs": [
        {
          "output_type": "execute_result",
          "data": {
            "text/plain": [
              "                          product_title\n",
              "0  Thule Urban Glide - Jogging Stroller\n",
              "1       Zippo Flex Neck Utility Lighter\n",
              "2                    YBIKE Balance Bike"
            ],
            "text/html": [
              "\n",
              "  <div id=\"df-a337ddbb-24fe-4f8a-86c0-ac2e040daf8a\">\n",
              "    <div class=\"colab-df-container\">\n",
              "      <div>\n",
              "<style scoped>\n",
              "    .dataframe tbody tr th:only-of-type {\n",
              "        vertical-align: middle;\n",
              "    }\n",
              "\n",
              "    .dataframe tbody tr th {\n",
              "        vertical-align: top;\n",
              "    }\n",
              "\n",
              "    .dataframe thead th {\n",
              "        text-align: right;\n",
              "    }\n",
              "</style>\n",
              "<table border=\"1\" class=\"dataframe\">\n",
              "  <thead>\n",
              "    <tr style=\"text-align: right;\">\n",
              "      <th></th>\n",
              "      <th>product_title</th>\n",
              "    </tr>\n",
              "  </thead>\n",
              "  <tbody>\n",
              "    <tr>\n",
              "      <th>0</th>\n",
              "      <td>Thule Urban Glide - Jogging Stroller</td>\n",
              "    </tr>\n",
              "    <tr>\n",
              "      <th>1</th>\n",
              "      <td>Zippo Flex Neck Utility Lighter</td>\n",
              "    </tr>\n",
              "    <tr>\n",
              "      <th>2</th>\n",
              "      <td>YBIKE Balance Bike</td>\n",
              "    </tr>\n",
              "  </tbody>\n",
              "</table>\n",
              "</div>\n",
              "      <button class=\"colab-df-convert\" onclick=\"convertToInteractive('df-a337ddbb-24fe-4f8a-86c0-ac2e040daf8a')\"\n",
              "              title=\"Convert this dataframe to an interactive table.\"\n",
              "              style=\"display:none;\">\n",
              "        \n",
              "  <svg xmlns=\"http://www.w3.org/2000/svg\" height=\"24px\"viewBox=\"0 0 24 24\"\n",
              "       width=\"24px\">\n",
              "    <path d=\"M0 0h24v24H0V0z\" fill=\"none\"/>\n",
              "    <path d=\"M18.56 5.44l.94 2.06.94-2.06 2.06-.94-2.06-.94-.94-2.06-.94 2.06-2.06.94zm-11 1L8.5 8.5l.94-2.06 2.06-.94-2.06-.94L8.5 2.5l-.94 2.06-2.06.94zm10 10l.94 2.06.94-2.06 2.06-.94-2.06-.94-.94-2.06-.94 2.06-2.06.94z\"/><path d=\"M17.41 7.96l-1.37-1.37c-.4-.4-.92-.59-1.43-.59-.52 0-1.04.2-1.43.59L10.3 9.45l-7.72 7.72c-.78.78-.78 2.05 0 2.83L4 21.41c.39.39.9.59 1.41.59.51 0 1.02-.2 1.41-.59l7.78-7.78 2.81-2.81c.8-.78.8-2.07 0-2.86zM5.41 20L4 18.59l7.72-7.72 1.47 1.35L5.41 20z\"/>\n",
              "  </svg>\n",
              "      </button>\n",
              "      \n",
              "  <style>\n",
              "    .colab-df-container {\n",
              "      display:flex;\n",
              "      flex-wrap:wrap;\n",
              "      gap: 12px;\n",
              "    }\n",
              "\n",
              "    .colab-df-convert {\n",
              "      background-color: #E8F0FE;\n",
              "      border: none;\n",
              "      border-radius: 50%;\n",
              "      cursor: pointer;\n",
              "      display: none;\n",
              "      fill: #1967D2;\n",
              "      height: 32px;\n",
              "      padding: 0 0 0 0;\n",
              "      width: 32px;\n",
              "    }\n",
              "\n",
              "    .colab-df-convert:hover {\n",
              "      background-color: #E2EBFA;\n",
              "      box-shadow: 0px 1px 2px rgba(60, 64, 67, 0.3), 0px 1px 3px 1px rgba(60, 64, 67, 0.15);\n",
              "      fill: #174EA6;\n",
              "    }\n",
              "\n",
              "    [theme=dark] .colab-df-convert {\n",
              "      background-color: #3B4455;\n",
              "      fill: #D2E3FC;\n",
              "    }\n",
              "\n",
              "    [theme=dark] .colab-df-convert:hover {\n",
              "      background-color: #434B5C;\n",
              "      box-shadow: 0px 1px 3px 1px rgba(0, 0, 0, 0.15);\n",
              "      filter: drop-shadow(0px 1px 2px rgba(0, 0, 0, 0.3));\n",
              "      fill: #FFFFFF;\n",
              "    }\n",
              "  </style>\n",
              "\n",
              "      <script>\n",
              "        const buttonEl =\n",
              "          document.querySelector('#df-a337ddbb-24fe-4f8a-86c0-ac2e040daf8a button.colab-df-convert');\n",
              "        buttonEl.style.display =\n",
              "          google.colab.kernel.accessAllowed ? 'block' : 'none';\n",
              "\n",
              "        async function convertToInteractive(key) {\n",
              "          const element = document.querySelector('#df-a337ddbb-24fe-4f8a-86c0-ac2e040daf8a');\n",
              "          const dataTable =\n",
              "            await google.colab.kernel.invokeFunction('convertToInteractive',\n",
              "                                                     [key], {});\n",
              "          if (!dataTable) return;\n",
              "\n",
              "          const docLinkHtml = 'Like what you see? Visit the ' +\n",
              "            '<a target=\"_blank\" href=https://colab.research.google.com/notebooks/data_table.ipynb>data table notebook</a>'\n",
              "            + ' to learn more about interactive tables.';\n",
              "          element.innerHTML = '';\n",
              "          dataTable['output_type'] = 'display_data';\n",
              "          await google.colab.output.renderOutput(dataTable, element);\n",
              "          const docLink = document.createElement('div');\n",
              "          docLink.innerHTML = docLinkHtml;\n",
              "          element.appendChild(docLink);\n",
              "        }\n",
              "      </script>\n",
              "    </div>\n",
              "  </div>\n",
              "  "
            ]
          },
          "metadata": {},
          "execution_count": 21
        }
      ]
    },
    {
      "cell_type": "code",
      "source": [
        "# Least rated products with the Top helpful votes for VINE CUSTOMERS\n",
        "\n",
        "from pyspark.sql.functions import desc\n",
        "\n",
        "low_vine_helpful_votes_df = vine_analysis_df.orderBy(vine_analysis_df.helpful_votes.desc())\n",
        "low_vine_helpful_votes_df = low_vine_helpful_votes_df.filter('star_rating = 1')\n",
        "\n",
        "print(\"Least rated products with the Top helpful votes for VINE CUSTOMERS\")\n",
        "low_vine_helpful_votes_df.show()"
      ],
      "metadata": {
        "colab": {
          "base_uri": "https://localhost:8080/"
        },
        "id": "m1M55vTUJ1qq",
        "outputId": "9686b5e7-7b66-4b95-83b9-aaa11db3491d"
      },
      "execution_count": null,
      "outputs": [
        {
          "output_type": "stream",
          "name": "stdout",
          "text": [
            "Least rated products with the Top helpful votes for VINE CUSTOMERS\n",
            "+-------------------+-----------+-----------------+--------------------+-----------+-------------+-----------+----+\n",
            "|        review_date|customer_id|verified_purchase|       product_title|star_rating|helpful_votes|total_votes|vine|\n",
            "+-------------------+-----------+-----------------+--------------------+-----------+-------------+-----------+----+\n",
            "|2013-01-31 00:05:00|   53090839|                N|Runtastic Bike Ca...|          1|           18|         18|   Y|\n",
            "|2013-01-04 00:12:00|   51036953|                N|Allen Sports Prem...|          1|           17|         20|   Y|\n",
            "|2014-01-08 00:01:00|   38056064|                N|Wahoo Balance Blu...|          1|           11|         12|   Y|\n",
            "|2013-01-02 00:12:00|   52761853|                N|KOR Nava BPA Free...|          1|            7|         15|   Y|\n",
            "|2012-01-27 00:07:00|   51002192|                N|Energizer Weather...|          1|            6|          9|   Y|\n",
            "|2011-01-27 00:07:00|   49011144|                N|Energizer Carabin...|          1|            5|         17|   Y|\n",
            "|2013-01-25 00:05:00|   52196389|                N|Runtastic Bike Ca...|          1|            5|          5|   Y|\n",
            "|2015-01-13 00:07:00|   42657230|                N|Phantom Aquatics ...|          1|            3|          3|   Y|\n",
            "|2012-01-22 00:04:00|   43111354|                N|Ultega Wireless A...|          1|            3|          8|   Y|\n",
            "|2014-01-20 00:05:00|   13722260|                N|Allen Sports Alum...|          1|            3|          6|   Y|\n",
            "|2014-01-15 00:05:00|   10465789|                N|Wahoo TICKR Heart...|          1|            2|          9|   Y|\n",
            "|2013-01-15 00:06:00|   26498296|                N|Runtastic Bike Ca...|          1|            2|          2|   Y|\n",
            "|2013-01-14 00:06:00|   47030935|                N|Runtastic Bike Ca...|          1|            2|          2|   Y|\n",
            "|2008-01-06 00:03:00|   34407806|                N|Allen Sports Navi...|          1|            2|          7|   Y|\n",
            "|2014-01-14 00:12:00|   49507117|                N|Retrospec Bicycle...|          1|            2|          3|   Y|\n",
            "|2015-01-26 00:08:00|   19471686|                N|AVEX, Brew Pint G...|          1|            1|          2|   Y|\n",
            "|2014-01-05 00:12:00|   35153261|                N|Saris The Hottie ...|          1|            1|          3|   Y|\n",
            "|2014-01-07 00:08:00|   37228723|                N|New Wave Enviro E...|          1|            1|          2|   Y|\n",
            "|2012-01-19 00:07:00|   24418548|                N|Zippo Hand Warmer...|          1|            1|          3|   Y|\n",
            "|2014-01-02 00:03:00|   51286713|                N|Wahoo PROTKT Hand...|          1|            1|          1|   Y|\n",
            "+-------------------+-----------+-----------------+--------------------+-----------+-------------+-----------+----+\n",
            "only showing top 20 rows\n",
            "\n"
          ]
        }
      ]
    },
    {
      "cell_type": "code",
      "source": [
        "#  Converting into Pandas DataFrame to get the complete product title name \n",
        "low_vine_helpful_votes_df.select(\"product_title\").toPandas().head(5)"
      ],
      "metadata": {
        "colab": {
          "base_uri": "https://localhost:8080/",
          "height": 206
        },
        "id": "fqVcTP5uKmd4",
        "outputId": "3e9cec78-887b-4102-91a1-282c03d50d28"
      },
      "execution_count": null,
      "outputs": [
        {
          "output_type": "execute_result",
          "data": {
            "text/plain": [
              "                                       product_title\n",
              "0    Runtastic Bike Case for iPhone 4, 4S, 5 (Black)\n",
              "1             Allen Sports Premier 4-Bike Trunk Rack\n",
              "2  Wahoo Balance Bluetooth Smart Scale for iPhone...\n",
              "3        KOR Nava BPA Free 650ml Filter Water Bottle\n",
              "4  Energizer Weather Ready Rechargeable LED Flash..."
            ],
            "text/html": [
              "\n",
              "  <div id=\"df-894a1bbd-f635-4cb3-a2ad-5d456fe78dba\">\n",
              "    <div class=\"colab-df-container\">\n",
              "      <div>\n",
              "<style scoped>\n",
              "    .dataframe tbody tr th:only-of-type {\n",
              "        vertical-align: middle;\n",
              "    }\n",
              "\n",
              "    .dataframe tbody tr th {\n",
              "        vertical-align: top;\n",
              "    }\n",
              "\n",
              "    .dataframe thead th {\n",
              "        text-align: right;\n",
              "    }\n",
              "</style>\n",
              "<table border=\"1\" class=\"dataframe\">\n",
              "  <thead>\n",
              "    <tr style=\"text-align: right;\">\n",
              "      <th></th>\n",
              "      <th>product_title</th>\n",
              "    </tr>\n",
              "  </thead>\n",
              "  <tbody>\n",
              "    <tr>\n",
              "      <th>0</th>\n",
              "      <td>Runtastic Bike Case for iPhone 4, 4S, 5 (Black)</td>\n",
              "    </tr>\n",
              "    <tr>\n",
              "      <th>1</th>\n",
              "      <td>Allen Sports Premier 4-Bike Trunk Rack</td>\n",
              "    </tr>\n",
              "    <tr>\n",
              "      <th>2</th>\n",
              "      <td>Wahoo Balance Bluetooth Smart Scale for iPhone...</td>\n",
              "    </tr>\n",
              "    <tr>\n",
              "      <th>3</th>\n",
              "      <td>KOR Nava BPA Free 650ml Filter Water Bottle</td>\n",
              "    </tr>\n",
              "    <tr>\n",
              "      <th>4</th>\n",
              "      <td>Energizer Weather Ready Rechargeable LED Flash...</td>\n",
              "    </tr>\n",
              "  </tbody>\n",
              "</table>\n",
              "</div>\n",
              "      <button class=\"colab-df-convert\" onclick=\"convertToInteractive('df-894a1bbd-f635-4cb3-a2ad-5d456fe78dba')\"\n",
              "              title=\"Convert this dataframe to an interactive table.\"\n",
              "              style=\"display:none;\">\n",
              "        \n",
              "  <svg xmlns=\"http://www.w3.org/2000/svg\" height=\"24px\"viewBox=\"0 0 24 24\"\n",
              "       width=\"24px\">\n",
              "    <path d=\"M0 0h24v24H0V0z\" fill=\"none\"/>\n",
              "    <path d=\"M18.56 5.44l.94 2.06.94-2.06 2.06-.94-2.06-.94-.94-2.06-.94 2.06-2.06.94zm-11 1L8.5 8.5l.94-2.06 2.06-.94-2.06-.94L8.5 2.5l-.94 2.06-2.06.94zm10 10l.94 2.06.94-2.06 2.06-.94-2.06-.94-.94-2.06-.94 2.06-2.06.94z\"/><path d=\"M17.41 7.96l-1.37-1.37c-.4-.4-.92-.59-1.43-.59-.52 0-1.04.2-1.43.59L10.3 9.45l-7.72 7.72c-.78.78-.78 2.05 0 2.83L4 21.41c.39.39.9.59 1.41.59.51 0 1.02-.2 1.41-.59l7.78-7.78 2.81-2.81c.8-.78.8-2.07 0-2.86zM5.41 20L4 18.59l7.72-7.72 1.47 1.35L5.41 20z\"/>\n",
              "  </svg>\n",
              "      </button>\n",
              "      \n",
              "  <style>\n",
              "    .colab-df-container {\n",
              "      display:flex;\n",
              "      flex-wrap:wrap;\n",
              "      gap: 12px;\n",
              "    }\n",
              "\n",
              "    .colab-df-convert {\n",
              "      background-color: #E8F0FE;\n",
              "      border: none;\n",
              "      border-radius: 50%;\n",
              "      cursor: pointer;\n",
              "      display: none;\n",
              "      fill: #1967D2;\n",
              "      height: 32px;\n",
              "      padding: 0 0 0 0;\n",
              "      width: 32px;\n",
              "    }\n",
              "\n",
              "    .colab-df-convert:hover {\n",
              "      background-color: #E2EBFA;\n",
              "      box-shadow: 0px 1px 2px rgba(60, 64, 67, 0.3), 0px 1px 3px 1px rgba(60, 64, 67, 0.15);\n",
              "      fill: #174EA6;\n",
              "    }\n",
              "\n",
              "    [theme=dark] .colab-df-convert {\n",
              "      background-color: #3B4455;\n",
              "      fill: #D2E3FC;\n",
              "    }\n",
              "\n",
              "    [theme=dark] .colab-df-convert:hover {\n",
              "      background-color: #434B5C;\n",
              "      box-shadow: 0px 1px 3px 1px rgba(0, 0, 0, 0.15);\n",
              "      filter: drop-shadow(0px 1px 2px rgba(0, 0, 0, 0.3));\n",
              "      fill: #FFFFFF;\n",
              "    }\n",
              "  </style>\n",
              "\n",
              "      <script>\n",
              "        const buttonEl =\n",
              "          document.querySelector('#df-894a1bbd-f635-4cb3-a2ad-5d456fe78dba button.colab-df-convert');\n",
              "        buttonEl.style.display =\n",
              "          google.colab.kernel.accessAllowed ? 'block' : 'none';\n",
              "\n",
              "        async function convertToInteractive(key) {\n",
              "          const element = document.querySelector('#df-894a1bbd-f635-4cb3-a2ad-5d456fe78dba');\n",
              "          const dataTable =\n",
              "            await google.colab.kernel.invokeFunction('convertToInteractive',\n",
              "                                                     [key], {});\n",
              "          if (!dataTable) return;\n",
              "\n",
              "          const docLinkHtml = 'Like what you see? Visit the ' +\n",
              "            '<a target=\"_blank\" href=https://colab.research.google.com/notebooks/data_table.ipynb>data table notebook</a>'\n",
              "            + ' to learn more about interactive tables.';\n",
              "          element.innerHTML = '';\n",
              "          dataTable['output_type'] = 'display_data';\n",
              "          await google.colab.output.renderOutput(dataTable, element);\n",
              "          const docLink = document.createElement('div');\n",
              "          docLink.innerHTML = docLinkHtml;\n",
              "          element.appendChild(docLink);\n",
              "        }\n",
              "      </script>\n",
              "    </div>\n",
              "  </div>\n",
              "  "
            ]
          },
          "metadata": {},
          "execution_count": 28
        }
      ]
    },
    {
      "cell_type": "markdown",
      "source": [
        "# Non Vine Customers"
      ],
      "metadata": {
        "id": "_QJ9__g7KxmB"
      }
    },
    {
      "cell_type": "code",
      "source": [
        "# Viewing NON-VINE CUSTOMERS\n",
        "non_vine_analysis_df = analysis_df.filter(col(\"vine\")  == \"N\")\n",
        "non_vine_analysis_df.show()"
      ],
      "metadata": {
        "colab": {
          "base_uri": "https://localhost:8080/"
        },
        "id": "dpzVbA9XK5rJ",
        "outputId": "2f98ec3a-c816-4e74-afe2-50fd89907045"
      },
      "execution_count": null,
      "outputs": [
        {
          "output_type": "stream",
          "name": "stdout",
          "text": [
            "+-------------------+-----------+-----------------+--------------------+-----------+-------------+-----------+----+\n",
            "|        review_date|customer_id|verified_purchase|       product_title|star_rating|helpful_votes|total_votes|vine|\n",
            "+-------------------+-----------+-----------------+--------------------+-----------+-------------+-----------+----+\n",
            "|2015-01-31 00:08:00|   18446823|                Y|Stearns Youth Boa...|          4|            0|          0|   N|\n",
            "|2015-01-31 00:08:00|   13724367|                Y|Primal Wear Men's...|          5|            0|          0|   N|\n",
            "|2015-01-31 00:08:00|   51001958|                Y|Osprey Hydraulics...|          4|            0|          0|   N|\n",
            "|2015-01-31 00:08:00|   32866903|                Y|CamelBak eddy .75...|          3|            1|          1|   N|\n",
            "|2015-01-31 00:08:00|   30907790|                Y|Children Black Re...|          1|            0|          0|   N|\n",
            "|2015-01-31 00:08:00|   20232229|                Y|Ibera Bicycle Tri...|          4|            1|          1|   N|\n",
            "|2015-01-31 00:08:00|   17698862|                Y|Therm-a-Rest Comp...|          5|            0|          0|   N|\n",
            "|2015-01-31 00:08:00|   38486114|                Y|Sawyer Products P...|          5|            1|          1|   N|\n",
            "|2015-01-31 00:08:00|   26319572|                Y|Zippo Hand Warmer...|          5|            1|          1|   N|\n",
            "|2015-01-31 00:08:00|   27152337|                Y|Camp Chef Dutch O...|          5|            0|          0|   N|\n",
            "|2015-01-31 00:08:00|   12516845|                Y|3CERA Portable Wi...|          5|            0|          0|   N|\n",
            "|2015-01-31 00:08:00|    3225242|                Y|Texsport King Kot...|          3|            0|          0|   N|\n",
            "|2015-01-31 00:08:00|     961839|                Y|Wallygadgets 2 Wh...|          5|            0|          1|   N|\n",
            "|2015-01-31 00:08:00|   47796452|                Y|RainStoppers 34-I...|          5|            0|          0|   N|\n",
            "|2015-01-31 00:08:00|   32004835|                Y|Alpha Deluxe Port...|          5|            0|          0|   N|\n",
            "|2015-01-31 00:08:00|   23972939|                Y|Speedfil Z4 BTA B...|          4|            0|          0|   N|\n",
            "|2015-01-31 00:08:00|   40889047|                Y|O'Brien Kids Plat...|          5|            0|          0|   N|\n",
            "|2015-01-31 00:08:00|   11244387|                Y|Kwik-Tek F-5R Pla...|          5|            0|          0|   N|\n",
            "|2015-01-31 00:08:00|   20121211|                Y|Ivation Portable ...|          5|            0|          0|   N|\n",
            "|2015-01-31 00:08:00|   25657249|                Y|GreenInsync Repla...|          2|            0|          0|   N|\n",
            "+-------------------+-----------+-----------------+--------------------+-----------+-------------+-----------+----+\n",
            "only showing top 20 rows\n",
            "\n"
          ]
        }
      ]
    },
    {
      "cell_type": "code",
      "source": [
        "# Summary statistics for NON-VINE CUSTOMERS for star_rating, helpful votes, total votes\n",
        "\n",
        "non_vine_summary_analysis_df = non_vine_analysis_df.select([\"star_rating\",\"helpful_votes\",\"total_votes\"]).describe()\n",
        "\n",
        "print(\"Summary statistics for NON-VINE CUSTOMERS\")\n",
        "non_vine_summary_analysis_df.show()"
      ],
      "metadata": {
        "colab": {
          "base_uri": "https://localhost:8080/"
        },
        "id": "Vpb1TVIxLDkj",
        "outputId": "1b31ef7d-dfad-4e73-bb10-183ba6b7852b"
      },
      "execution_count": null,
      "outputs": [
        {
          "output_type": "stream",
          "name": "stdout",
          "text": [
            "Summary statistics for NON-VINE CUSTOMERS\n",
            "+-------+------------------+------------------+------------------+\n",
            "|summary|       star_rating|     helpful_votes|       total_votes|\n",
            "+-------+------------------+------------------+------------------+\n",
            "|  count|           2299037|           2299037|           2299037|\n",
            "|   mean| 4.239844334823667|1.8453161040905388| 2.292603381328791|\n",
            "| stddev|1.2106065679246594|12.770881428703447|13.628638311192573|\n",
            "|    min|                 1|                 0|                 0|\n",
            "|    max|                 5|              2703|              2751|\n",
            "+-------+------------------+------------------+------------------+\n",
            "\n"
          ]
        }
      ]
    },
    {
      "cell_type": "code",
      "source": [
        "# Top 10 rated products with the Top helpful votes for NON-VINE CUSTOMERS\n",
        "\n",
        "from pyspark.sql.functions import desc\n",
        "\n",
        "non_vine_helpful_votes_df = non_vine_analysis_df.orderBy(non_vine_analysis_df.helpful_votes.desc())\n",
        "non_vine_helpful_votes_df = non_vine_helpful_votes_df.filter('star_rating = 5')\n",
        "\n",
        "print(\"Top 10 rated products with the Top helpful votes for NON-VINE CUSTOMERS\")\n",
        "non_vine_helpful_votes_df.show(10)"
      ],
      "metadata": {
        "colab": {
          "base_uri": "https://localhost:8080/"
        },
        "id": "0f7Yvj8BLOEv",
        "outputId": "e5d3d741-c223-4205-f5ce-f020be784ee2"
      },
      "execution_count": null,
      "outputs": [
        {
          "output_type": "stream",
          "name": "stdout",
          "text": [
            "Top 10 rated products with the Top helpful votes for NON-VINE CUSTOMERS\n",
            "+-------------------+-----------+-----------------+--------------------+-----------+-------------+-----------+----+\n",
            "|        review_date|customer_id|verified_purchase|       product_title|star_rating|helpful_votes|total_votes|vine|\n",
            "+-------------------+-----------+-----------------+--------------------+-----------+-------------+-----------+----+\n",
            "|2011-01-13 00:10:00|   16316106|                Y|Magnet Steel Bike...|          5|         2478|       2600|   N|\n",
            "|2014-01-19 00:04:00|   34490348|                Y|LifeStraw Persona...|          5|         2362|       2496|   N|\n",
            "|2013-01-04 00:10:00|   30530118|                Y|SoundAsleep Dream...|          5|         2350|       2420|   N|\n",
            "|2013-01-18 00:05:00|   35554264|                Y|LifeStraw Persona...|          5|         1864|       1961|   N|\n",
            "|2013-01-24 00:10:00|    6262999|                Y|SoundAsleep Dream...|          5|         1722|       1792|   N|\n",
            "|2009-01-06 00:04:00|   15510059|                N|Coleman Road Trip...|          5|         1663|       1703|   N|\n",
            "|2014-01-11 00:05:00|   15101976|                Y|LifeStraw Persona...|          5|         1577|       1632|   N|\n",
            "|2008-01-18 00:06:00|   31661920|                N|Schwinn 20-Functi...|          5|         1550|       1612|   N|\n",
            "|2010-01-10 00:04:00|   43291978|                N|Schwinn Thrasher ...|          5|         1511|       1556|   N|\n",
            "|2011-01-21 00:11:00|   29922475|                N|Defence Technolog...|          5|         1489|       1554|   N|\n",
            "+-------------------+-----------+-----------------+--------------------+-----------+-------------+-----------+----+\n",
            "only showing top 10 rows\n",
            "\n"
          ]
        }
      ]
    },
    {
      "cell_type": "code",
      "source": [
        "#  Converting into Pandas DataFrame to get the complete product title name \n",
        "non_vine_helpful_votes_df.select(\"product_title\").toPandas().head(5)"
      ],
      "metadata": {
        "colab": {
          "base_uri": "https://localhost:8080/",
          "height": 206
        },
        "id": "SXU8rl87LVYH",
        "outputId": "c85e4840-295f-4558-c2ef-f7aae546b932"
      },
      "execution_count": null,
      "outputs": [
        {
          "output_type": "execute_result",
          "data": {
            "text/plain": [
              "                                       product_title\n",
              "0  Magnet Steel Bike Bicycle Indoor Exercise Trai...\n",
              "1  LifeStraw Personal Water Filter for Hiking, Ca...\n",
              "2  SoundAsleep Dream Series Air Mattress with Com...\n",
              "3  LifeStraw Personal Water Filter for Hiking, Ca...\n",
              "4  SoundAsleep Dream Series Air Mattress with Com..."
            ],
            "text/html": [
              "\n",
              "  <div id=\"df-3e74fb64-5b27-45bd-a8ec-755174ffb025\">\n",
              "    <div class=\"colab-df-container\">\n",
              "      <div>\n",
              "<style scoped>\n",
              "    .dataframe tbody tr th:only-of-type {\n",
              "        vertical-align: middle;\n",
              "    }\n",
              "\n",
              "    .dataframe tbody tr th {\n",
              "        vertical-align: top;\n",
              "    }\n",
              "\n",
              "    .dataframe thead th {\n",
              "        text-align: right;\n",
              "    }\n",
              "</style>\n",
              "<table border=\"1\" class=\"dataframe\">\n",
              "  <thead>\n",
              "    <tr style=\"text-align: right;\">\n",
              "      <th></th>\n",
              "      <th>product_title</th>\n",
              "    </tr>\n",
              "  </thead>\n",
              "  <tbody>\n",
              "    <tr>\n",
              "      <th>0</th>\n",
              "      <td>Magnet Steel Bike Bicycle Indoor Exercise Trai...</td>\n",
              "    </tr>\n",
              "    <tr>\n",
              "      <th>1</th>\n",
              "      <td>LifeStraw Personal Water Filter for Hiking, Ca...</td>\n",
              "    </tr>\n",
              "    <tr>\n",
              "      <th>2</th>\n",
              "      <td>SoundAsleep Dream Series Air Mattress with Com...</td>\n",
              "    </tr>\n",
              "    <tr>\n",
              "      <th>3</th>\n",
              "      <td>LifeStraw Personal Water Filter for Hiking, Ca...</td>\n",
              "    </tr>\n",
              "    <tr>\n",
              "      <th>4</th>\n",
              "      <td>SoundAsleep Dream Series Air Mattress with Com...</td>\n",
              "    </tr>\n",
              "  </tbody>\n",
              "</table>\n",
              "</div>\n",
              "      <button class=\"colab-df-convert\" onclick=\"convertToInteractive('df-3e74fb64-5b27-45bd-a8ec-755174ffb025')\"\n",
              "              title=\"Convert this dataframe to an interactive table.\"\n",
              "              style=\"display:none;\">\n",
              "        \n",
              "  <svg xmlns=\"http://www.w3.org/2000/svg\" height=\"24px\"viewBox=\"0 0 24 24\"\n",
              "       width=\"24px\">\n",
              "    <path d=\"M0 0h24v24H0V0z\" fill=\"none\"/>\n",
              "    <path d=\"M18.56 5.44l.94 2.06.94-2.06 2.06-.94-2.06-.94-.94-2.06-.94 2.06-2.06.94zm-11 1L8.5 8.5l.94-2.06 2.06-.94-2.06-.94L8.5 2.5l-.94 2.06-2.06.94zm10 10l.94 2.06.94-2.06 2.06-.94-2.06-.94-.94-2.06-.94 2.06-2.06.94z\"/><path d=\"M17.41 7.96l-1.37-1.37c-.4-.4-.92-.59-1.43-.59-.52 0-1.04.2-1.43.59L10.3 9.45l-7.72 7.72c-.78.78-.78 2.05 0 2.83L4 21.41c.39.39.9.59 1.41.59.51 0 1.02-.2 1.41-.59l7.78-7.78 2.81-2.81c.8-.78.8-2.07 0-2.86zM5.41 20L4 18.59l7.72-7.72 1.47 1.35L5.41 20z\"/>\n",
              "  </svg>\n",
              "      </button>\n",
              "      \n",
              "  <style>\n",
              "    .colab-df-container {\n",
              "      display:flex;\n",
              "      flex-wrap:wrap;\n",
              "      gap: 12px;\n",
              "    }\n",
              "\n",
              "    .colab-df-convert {\n",
              "      background-color: #E8F0FE;\n",
              "      border: none;\n",
              "      border-radius: 50%;\n",
              "      cursor: pointer;\n",
              "      display: none;\n",
              "      fill: #1967D2;\n",
              "      height: 32px;\n",
              "      padding: 0 0 0 0;\n",
              "      width: 32px;\n",
              "    }\n",
              "\n",
              "    .colab-df-convert:hover {\n",
              "      background-color: #E2EBFA;\n",
              "      box-shadow: 0px 1px 2px rgba(60, 64, 67, 0.3), 0px 1px 3px 1px rgba(60, 64, 67, 0.15);\n",
              "      fill: #174EA6;\n",
              "    }\n",
              "\n",
              "    [theme=dark] .colab-df-convert {\n",
              "      background-color: #3B4455;\n",
              "      fill: #D2E3FC;\n",
              "    }\n",
              "\n",
              "    [theme=dark] .colab-df-convert:hover {\n",
              "      background-color: #434B5C;\n",
              "      box-shadow: 0px 1px 3px 1px rgba(0, 0, 0, 0.15);\n",
              "      filter: drop-shadow(0px 1px 2px rgba(0, 0, 0, 0.3));\n",
              "      fill: #FFFFFF;\n",
              "    }\n",
              "  </style>\n",
              "\n",
              "      <script>\n",
              "        const buttonEl =\n",
              "          document.querySelector('#df-3e74fb64-5b27-45bd-a8ec-755174ffb025 button.colab-df-convert');\n",
              "        buttonEl.style.display =\n",
              "          google.colab.kernel.accessAllowed ? 'block' : 'none';\n",
              "\n",
              "        async function convertToInteractive(key) {\n",
              "          const element = document.querySelector('#df-3e74fb64-5b27-45bd-a8ec-755174ffb025');\n",
              "          const dataTable =\n",
              "            await google.colab.kernel.invokeFunction('convertToInteractive',\n",
              "                                                     [key], {});\n",
              "          if (!dataTable) return;\n",
              "\n",
              "          const docLinkHtml = 'Like what you see? Visit the ' +\n",
              "            '<a target=\"_blank\" href=https://colab.research.google.com/notebooks/data_table.ipynb>data table notebook</a>'\n",
              "            + ' to learn more about interactive tables.';\n",
              "          element.innerHTML = '';\n",
              "          dataTable['output_type'] = 'display_data';\n",
              "          await google.colab.output.renderOutput(dataTable, element);\n",
              "          const docLink = document.createElement('div');\n",
              "          docLink.innerHTML = docLinkHtml;\n",
              "          element.appendChild(docLink);\n",
              "        }\n",
              "      </script>\n",
              "    </div>\n",
              "  </div>\n",
              "  "
            ]
          },
          "metadata": {},
          "execution_count": 29
        }
      ]
    },
    {
      "cell_type": "markdown",
      "source": [
        "# Top rated review count with most helpfulVotes for Vine customers"
      ],
      "metadata": {
        "id": "hGVPCfZtM-nD"
      }
    },
    {
      "cell_type": "code",
      "source": [
        "#  Customer: 51999404\n",
        "\n",
        "view_count_topvine_customer_df = vine_helpful_votes_df.filter((col('customer_id')==\"51999404\"))\n",
        "view_count_topvine_customer_df.show()"
      ],
      "metadata": {
        "colab": {
          "base_uri": "https://localhost:8080/"
        },
        "id": "t0pBYFgbLoqO",
        "outputId": "25bc8a07-7af3-45cc-ea68-5ccaa81ce714"
      },
      "execution_count": null,
      "outputs": [
        {
          "output_type": "stream",
          "name": "stdout",
          "text": [
            "+-------------------+-----------+-----------------+--------------------+-----------+-------------+-----------+----+\n",
            "|        review_date|customer_id|verified_purchase|       product_title|star_rating|helpful_votes|total_votes|vine|\n",
            "+-------------------+-----------+-----------------+--------------------+-----------+-------------+-----------+----+\n",
            "|2014-01-08 00:08:00|   51999404|                N|Thule Urban Glide...|          5|          326|        340|   Y|\n",
            "+-------------------+-----------+-----------------+--------------------+-----------+-------------+-----------+----+\n",
            "\n"
          ]
        }
      ]
    },
    {
      "cell_type": "code",
      "source": [
        "#  Customer: 49805190\n",
        "\n",
        "view_count_2topvine_customer_df = vine_helpful_votes_df.filter((col('customer_id')==\"49805190\"))\n",
        "view_count_2topvine_customer_df.show()"
      ],
      "metadata": {
        "colab": {
          "base_uri": "https://localhost:8080/"
        },
        "id": "WoTLlVgkOSGa",
        "outputId": "66b92f84-3f73-4e7c-d866-4c1098fbfc00"
      },
      "execution_count": null,
      "outputs": [
        {
          "output_type": "stream",
          "name": "stdout",
          "text": [
            "+-------------------+-----------+-----------------+--------------------+-----------+-------------+-----------+----+\n",
            "|        review_date|customer_id|verified_purchase|       product_title|star_rating|helpful_votes|total_votes|vine|\n",
            "+-------------------+-----------+-----------------+--------------------+-----------+-------------+-----------+----+\n",
            "|2012-01-01 00:08:00|   49805190|                N|Zippo Flex Neck U...|          5|          170|        181|   Y|\n",
            "|2010-01-22 00:04:00|   49805190|                N|Optic Nerve Eyequ...|          5|            2|          2|   Y|\n",
            "+-------------------+-----------+-----------------+--------------------+-----------+-------------+-----------+----+\n",
            "\n"
          ]
        }
      ]
    },
    {
      "cell_type": "code",
      "source": [
        "#  Customer: 51859664\n",
        "\n",
        "view_count_3topvine_customer_df = vine_helpful_votes_df.filter((col('customer_id')==\"51859664\"))\n",
        "view_count_3topvine_customer_df.show()"
      ],
      "metadata": {
        "colab": {
          "base_uri": "https://localhost:8080/"
        },
        "id": "UA6Vc5idOdOT",
        "outputId": "82a03166-1725-48aa-c780-174b399ba76a"
      },
      "execution_count": null,
      "outputs": [
        {
          "output_type": "stream",
          "name": "stdout",
          "text": [
            "+-------------------+-----------+-----------------+--------------------+-----------+-------------+-----------+----+\n",
            "|        review_date|customer_id|verified_purchase|       product_title|star_rating|helpful_votes|total_votes|vine|\n",
            "+-------------------+-----------+-----------------+--------------------+-----------+-------------+-----------+----+\n",
            "|2010-01-19 00:09:00|   51859664|                N|  YBIKE Balance Bike|          5|          140|        153|   Y|\n",
            "|2014-01-03 00:02:00|   51859664|                N|Thule  Cougar One...|          5|            0|          0|   Y|\n",
            "+-------------------+-----------+-----------------+--------------------+-----------+-------------+-----------+----+\n",
            "\n"
          ]
        }
      ]
    },
    {
      "cell_type": "markdown",
      "source": [
        "Review type by Customer with highest review count"
      ],
      "metadata": {
        "id": "MWE7UGfeO5kn"
      }
    },
    {
      "cell_type": "code",
      "source": [
        "from pyspark.sql.functions import desc\n",
        "\n",
        "customers_df = df.groupby(\"customer_id\").agg({\"customer_id\":\"count\"})\n",
        "customers_df = customers_df.orderBy(desc(\"count(customer_id)\"))\n",
        "customers_df = customers_df.withColumnRenamed(\"count(customer_id)\", \"customer_count\") \n",
        "customers_df.show()"
      ],
      "metadata": {
        "colab": {
          "base_uri": "https://localhost:8080/"
        },
        "id": "zAT0y1sgO3JQ",
        "outputId": "604c174f-994e-49c7-d600-a9cb0dba039f"
      },
      "execution_count": null,
      "outputs": [
        {
          "output_type": "stream",
          "name": "stdout",
          "text": [
            "+-----------+--------------+\n",
            "|customer_id|customer_count|\n",
            "+-----------+--------------+\n",
            "|   13355404|           291|\n",
            "|   47355039|           205|\n",
            "|   51155788|           197|\n",
            "|   20433453|           129|\n",
            "|   40944345|           128|\n",
            "|    3247563|           128|\n",
            "|   27550730|           125|\n",
            "|   30636778|           115|\n",
            "|   10796373|           113|\n",
            "|   40364490|           112|\n",
            "|   16255502|           112|\n",
            "|   38137849|           111|\n",
            "|   52988261|           109|\n",
            "|   36205928|           108|\n",
            "|   52196389|           104|\n",
            "|   18466687|           104|\n",
            "|   44142946|           102|\n",
            "|   49782074|           100|\n",
            "|   45014035|           100|\n",
            "|   31807575|            98|\n",
            "+-----------+--------------+\n",
            "only showing top 20 rows\n",
            "\n"
          ]
        }
      ]
    },
    {
      "cell_type": "code",
      "source": [
        "#  Customer with Non Verified Purchase\n",
        "\n",
        "customer_review_count = non_vine_helpful_votes_df.filter((col('customer_id')==\"13355404\"))\n",
        "customer_review_count.show(4)"
      ],
      "metadata": {
        "colab": {
          "base_uri": "https://localhost:8080/"
        },
        "id": "XDXWiQaVPaci",
        "outputId": "d5d6fee2-a6f8-4dc6-f16d-b1dba38c47ea"
      },
      "execution_count": null,
      "outputs": [
        {
          "output_type": "stream",
          "name": "stdout",
          "text": [
            "+-------------------+-----------+-----------------+--------------------+-----------+-------------+-----------+----+\n",
            "|        review_date|customer_id|verified_purchase|       product_title|star_rating|helpful_votes|total_votes|vine|\n",
            "+-------------------+-----------+-----------------+--------------------+-----------+-------------+-----------+----+\n",
            "|2014-01-18 00:04:00|   13355404|                N|Bushbox Outdoor P...|          5|          183|        189|   N|\n",
            "|2015-01-19 00:06:00|   13355404|                N|OutdoorMaster Hik...|          5|          129|        137|   N|\n",
            "|2014-01-14 00:04:00|   13355404|                N|Bushbox Titanium ...|          5|           84|         86|   N|\n",
            "|2014-01-09 00:04:00|   13355404|                N|Coghlan's Backpac...|          5|           83|         85|   N|\n",
            "+-------------------+-----------+-----------------+--------------------+-----------+-------------+-----------+----+\n",
            "only showing top 4 rows\n",
            "\n"
          ]
        }
      ]
    },
    {
      "cell_type": "code",
      "source": [
        "#  Customer with verified purchase\n",
        "\n",
        "customer2_review_count = non_vine_helpful_votes_df.filter((col('customer_id')==\"51155788\"))\n",
        "customer2_review_count.show(3)"
      ],
      "metadata": {
        "colab": {
          "base_uri": "https://localhost:8080/"
        },
        "id": "dmnOARBMPlWw",
        "outputId": "c6b13a16-891f-4a3e-f3eb-56360d09968a"
      },
      "execution_count": null,
      "outputs": [
        {
          "output_type": "stream",
          "name": "stdout",
          "text": [
            "+-------------------+-----------+-----------------+--------------------+-----------+-------------+-----------+----+\n",
            "|        review_date|customer_id|verified_purchase|       product_title|star_rating|helpful_votes|total_votes|vine|\n",
            "+-------------------+-----------+-----------------+--------------------+-----------+-------------+-----------+----+\n",
            "|2014-01-12 00:02:00|   51155788|                Y|SRAM Supercork Bi...|          5|           32|         34|   N|\n",
            "|2014-01-03 00:03:00|   51155788|                Y|Selle Royal Respi...|          5|           25|         27|   N|\n",
            "|2013-01-19 00:06:00|   51155788|                Y|Kenda Tube Bicycl...|          5|           19|         22|   N|\n",
            "+-------------------+-----------+-----------------+--------------------+-----------+-------------+-----------+----+\n",
            "only showing top 3 rows\n",
            "\n"
          ]
        }
      ]
    }
  ],
  "metadata": {
    "colab": {
      "provenance": []
    },
    "kernelspec": {
      "display_name": "Python 3 (ipykernel)",
      "language": "python",
      "name": "python3"
    },
    "language_info": {
      "codemirror_mode": {
        "name": "ipython",
        "version": 3
      },
      "file_extension": ".py",
      "mimetype": "text/x-python",
      "name": "python",
      "nbconvert_exporter": "python",
      "pygments_lexer": "ipython3",
      "version": "3.9.12"
    }
  },
  "nbformat": 4,
  "nbformat_minor": 0
}